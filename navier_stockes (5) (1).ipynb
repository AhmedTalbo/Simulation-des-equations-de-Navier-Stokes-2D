{
 "cells": [
  {
   "cell_type": "code",
   "execution_count": 14,
   "id": "1558fb75",
   "metadata": {},
   "outputs": [],
   "source": [
    "import numpy as np\n",
    "from  numpy import cos,sin,pi"
   ]
  },
  {
   "cell_type": "code",
   "execution_count": 15,
   "id": "fec930df",
   "metadata": {},
   "outputs": [],
   "source": [
    "# cas test de l'instabilite\n",
    "Tmax = 10.         # duree sim\n",
    "Lx,Ly = 1.0,1.0    # taille boite\n",
    "Re = 100.          # Nombre de Reynod\n",
    "nx,ny=41,41\n",
    "\n",
    "hx,hy= Lx/nx,Ly/ny\n",
    "dt = 0.1*hx\n",
    "\n",
    "xc = np.linspace(0,Lx,nx,endpoint=False)\n",
    "yc = np.linspace(0,Ly,ny,endpoint=False)\n",
    "\n",
    "xm = xc + 0.5*hx\n",
    "ym = yc + 0.5*hy\n",
    "\n",
    "nx,ny=nx,ny"
   ]
  },
  {
   "cell_type": "code",
   "execution_count": 16,
   "id": "9eae2ebc",
   "metadata": {},
   "outputs": [],
   "source": [
    "u=v=np.zeros((nx,ny))\n",
    "xv, yv = np.meshgrid(xm, ym, indexing='ij')\n",
    "\n",
    "fi = cos(2*pi*xv)*cos(2*pi*yv)"
   ]
  },
  {
   "cell_type": "code",
   "execution_count": 17,
   "id": "05a6fea6",
   "metadata": {},
   "outputs": [],
   "source": [
    "dxfi = np.zeros((nx,ny))\n",
    "dyfi = np.zeros((nx,ny))\n",
    "div = np.zeros((nx,ny))\n",
    "dx_2_fi = np.zeros((nx,ny))\n",
    "dy_2_fi = np.zeros((nx,ny)) \n",
    "lapl_fi = np.zeros((nx,ny))\n",
    "Hu = np.zeros((nx, ny))\n",
    "Hv = np.zeros((nx, ny))\n",
    "d_u2_x = np.zeros((nx, ny))\n",
    "d_uv_y = np.zeros((nx, ny))\n",
    "d_v2_y = np.zeros((nx, ny))\n",
    "d_uv_x = np.zeros((nx, ny))"
   ]
  },
  {
   "cell_type": "code",
   "execution_count": 18,
   "id": "97f6ad3c",
   "metadata": {},
   "outputs": [],
   "source": [
    "ip = (np.arange(nx)+1)%nx\n",
    "im = (np.arange(nx)-1)%nx\n",
    "\n",
    "jp = (np.arange(ny)+1)%ny\n",
    "jm = (np.arange(ny)-1)%ny"
   ]
  },
  {
   "cell_type": "code",
   "execution_count": 19,
   "id": "d28a5b25",
   "metadata": {},
   "outputs": [
    {
     "name": "stdout",
     "output_type": "stream",
     "text": [
      "--------------------------------------------------\n",
      "0.024546628196999265 0.024546628196999265\n",
      "0.07720235388936914 0.07720235388936914\n",
      "--------------------------------------------------\n"
     ]
    }
   ],
   "source": [
    "for i in np.arange(nx):\n",
    "    for j in np.arange(ny):\n",
    "        dxfi[i,j] = (fi[ip[i],j] - fi[im[i],j])/(2*hx)\n",
    "        dyfi[i,j] = (fi[i,jp[j]] - fi[i,jm[j]])/(2*hy)\n",
    "        dx_2_fi[i,j] = (fi[ip[i],j] - 2*fi[i,j] + fi[im[i],j])/(hx*hx)\n",
    "        dy_2_fi[i,j] = (fi[i,jp[j]] - 2*fi[i,j] + fi[i,jm[j]])/(hy*hy)\n",
    "        lapl_fi[i,j] = dx_2_fi[i,j] + dy_2_fi[i,j]      \n",
    "print(50*\"-\")\n",
    "err_x= np.max(np.abs(dxfi- (-2*pi*sin(2*pi*xv)*cos(2*pi*yv))))\n",
    "err_y= np.max(np.abs(dyfi- (-2*pi*cos(2*pi*xv)*sin(2*pi*yv))))\n",
    "print(err_x,err_y)\n",
    "err_dx_2= np.max(np.abs(dx_2_fi- (-4*pi*pi*cos(2*pi*xv)*cos(2*pi*yv))))\n",
    "err_dy_2= np.max(np.abs(dy_2_fi- (-4*pi*pi*cos(2*pi*xv)*cos(2*pi*yv))))\n",
    "print(err_dx_2,err_dy_2)\n",
    "print(50*\"-\")"
   ]
  },
  {
   "cell_type": "code",
   "execution_count": null,
   "id": "b9332e01",
   "metadata": {},
   "outputs": [],
   "source": []
  },
  {
   "cell_type": "code",
   "execution_count": 35,
   "id": "de257574",
   "metadata": {},
   "outputs": [
    {
     "name": "stdout",
     "output_type": "stream",
     "text": [
      "erreur de divergence : 3.730349362740526e-14\n",
      "-----------\n",
      "err_x : 0.0061420641140337295\n",
      "err_y : 0.0061420641140337295\n",
      "----------\n",
      "erreur d_u2_x : 0.06110412932243925\n",
      "erreur d_uv_y : 0.03059695343348956\n",
      "erreur d_v2_y : 0.06110412932244014\n",
      "erreur d_uv_x : 0.03059695343348956\n",
      "erreur Hu : 0.030596953433505547\n",
      "erreur Hv : 0.030596953433507323\n"
     ]
    }
   ],
   "source": [
    "#xv, yv = np.meshgrid(xc, ym, indexing='ij') # 2d mesh\n",
    "#err_x= np.max(np.abs(dxfi- (-2*pi*sin(2*pi*xv_)*cos(2*pi*yv_u))))\n",
    "#xv, yv = np.meshgrid(xm, yc, indexing='ij') # 2d mesh\n",
    "#err_y= np.max(np.abs(dyfi- (-2*pi*cos(2*pi*xv_v)*sin(2*pi*yv_v))))\n",
    "#fi = cos(2*pi*xv)*cos(2*pi*yv)\n",
    "# dérivées décalées\n",
    "for i in np.arange(nx):\n",
    "    for j in np.arange(ny):\n",
    "        dxfi[i,j] = (fi[i,j] - fi[im[i],j])/(hx)\n",
    "        dyfi[i,j] = (fi[i,j] - fi[i,jm[j]])/(hy)\n",
    "        \n",
    "\n",
    "xv_u, yv_u = np.meshgrid(xc, ym, indexing='ij')\n",
    "xv_v, yv_v = np.meshgrid(xm, yc, indexing='ij')\n",
    "\n",
    "err_x= np.max(np.abs(dxfi- (-2*pi*sin(2*pi*xv_u)*cos(2*pi*yv_u))))\n",
    "err_y= np.max(np.abs(dyfi- (-2*pi*cos(2*pi*xv_v)*sin(2*pi*yv_v))))\n",
    "\n",
    "u= cos(2*pi*xv_u)*sin(2*pi*yv_u)\n",
    "v = -sin(2*pi*xv_v)*cos(2*pi*yv_v)\n",
    "\n",
    "\n",
    "d_u2_x_exact = -4 * np.pi * np.cos(2 * np.pi * xv_u)* np.sin(2*np.pi*xv_u) *np.sin(2 * np.pi * yv_u) ** 2\n",
    "d_uv_y_exact = (2 * np.pi * np.cos(2 * np.pi * xv_u) * np.cos(2 * np.pi * yv_u) * (-np.sin(2 * np.pi * xv_u) * np.cos(2 * np.pi * yv_u)) +\n",
    "            np.cos(2 * np.pi * xv_u) * np.sin(2 * np.pi * yv_u) * (2 * np.pi * np.sin(2 * np.pi * xv_u) * np.sin(2 * np.pi * yv_u)))\n",
    "d_v2_y_exact = 2 * (-np.sin(2 * np.pi * xv_v) * np.cos(2 * np.pi * yv_v)) * np.sin(2 * np.pi * xv_v) * (2 * np.pi * np.sin(2 * np.pi * yv_v))\n",
    "d_uv_x_exact = (-2 * np.pi * np.sin(2 * np.pi * xv_v) * np.sin(2 * np.pi * yv_v)) * (-np.sin(2 * np.pi * xv_v) * np.cos(2 * np.pi * yv_v)) + (np.cos(2 * np.pi * xv_v) * np.sin(2 * np.pi * yv_v)) * (-2 * np.pi * np.cos(2 * np.pi * xv_v) * np.cos(2 * np.pi * yv_v))\n",
    "Hu_exact = - d_u2_x_exact - d_uv_y_exact \n",
    "Hv_exact = - d_v2_y_exact - d_uv_x_exact\n",
    "for i in np.arange(nx):\n",
    "    for j in np.arange(ny):\n",
    "        div[i,j] = (u[ip[i],j] - u[i,j])/(hx) + (v[i,ip[j]] - v[i,j])/(hy)\n",
    "        d_u2_x[i,j] = (((u[i,j]+u[ip[i],j])/2)**2 - ((u[i,j]+u[im[i],j])/2)**2)/(hx)\n",
    "        d_uv_y[i,j] = (((u[i,j]+u[i,jp[j]])/2)*((v[i,jp[j]]+v[im[i],jp[j]])/2) - ((u[i,j]+u[i,jm[j]])/2)*((v[i,j]+v[im[i],j])/2))/(hy)\n",
    "        d_v2_y[i,j] = (((v[i,j]+v[i,jp[j]])/2)**2 - ((v[i,j]+v[i,jm[j]])/2)**2)/(hy)\n",
    "        d_uv_x[i,j] = (((u[ip[i],j]+u[ip[i],jm[j]])/2)*((v[i,j]+v[ip[i],j])/2) - ((u[i,j]+u[i,jm[j]])/2)*((v[i,j]+v[im[i],j])/2))/(hx)\n",
    "        Hu[i,j] = - d_u2_x[i,j] - d_uv_y[i,j]\n",
    "        Hv[i,j] = - d_v2_y[i,j] - d_uv_x[i,j]\n",
    "        # le laplacien u,v\n",
    "xv, yv = np.meshgrid(xm, ym, indexing='ij') # 2d mesh\n",
    "err_div= np.max(np.abs(div))\n",
    "\n",
    "print(f\"erreur de divergence : {err_div}\")\n",
    "print(\"-----------\")\n",
    "print(f\"err_x : {err_x}\")\n",
    "print(f\"err_y : {err_y}\")\n",
    "print(\"----------\")\n",
    "print(f\"erreur d_u2_x : {np.max(np.abs(d_u2_x - d_u2_x_exact))}\")\n",
    "print(f\"erreur d_uv_y : {np.max(np.abs(d_uv_y - d_uv_y_exact))}\")\n",
    "print(f\"erreur d_v2_y : {np.max(np.abs(d_v2_y - d_v2_y_exact))}\")\n",
    "print(f\"erreur d_uv_x : {np.max(np.abs(d_uv_x - d_uv_x_exact))}\")\n",
    "print(f\"erreur Hu : {np.max(np.abs(Hu - Hu_exact))}\")\n",
    "print(f\"erreur Hv : {np.max(np.abs(Hv - Hv_exact))}\")\n",
    "\n",
    "# iteration temporelle\n",
    "\n",
    "# calul des termes non-linaires\n",
    "\n",
    "# resoudre u*\n",
    "\n",
    "# calcul de phi\n",
    "\n",
    "# il faut corriger la vitesse finale"
   ]
  },
  {
   "cell_type": "code",
   "execution_count": null,
   "id": "53414ff8",
   "metadata": {},
   "outputs": [],
   "source": []
  },
  {
   "cell_type": "code",
   "execution_count": null,
   "id": "d9d4bf48",
   "metadata": {},
   "outputs": [],
   "source": []
  },
  {
   "cell_type": "code",
   "execution_count": null,
   "id": "c14cd588",
   "metadata": {},
   "outputs": [],
   "source": []
  },
  {
   "cell_type": "code",
   "execution_count": null,
   "id": "ea91cf48",
   "metadata": {},
   "outputs": [],
   "source": []
  }
 ],
 "metadata": {
  "kernelspec": {
   "display_name": "Python 3 (ipykernel)",
   "language": "python",
   "name": "python3"
  },
  "language_info": {
   "codemirror_mode": {
    "name": "ipython",
    "version": 3
   },
   "file_extension": ".py",
   "mimetype": "text/x-python",
   "name": "python",
   "nbconvert_exporter": "python",
   "pygments_lexer": "ipython3",
   "version": "3.10.8"
  }
 },
 "nbformat": 4,
 "nbformat_minor": 5
}
